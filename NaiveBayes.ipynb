{
 "cells": [
  {
   "attachments": {},
   "cell_type": "markdown",
   "metadata": {},
   "source": [
    "### Wybrany algorytm data mining - Naiwny klasyfikator Bayesa"
   ]
  },
  {
   "cell_type": "code",
   "execution_count": 1,
   "metadata": {},
   "outputs": [],
   "source": [
    "# Niezbędne biblioteki\n",
    "import matplotlib.pyplot as plt\n",
    "import numpy as np\n",
    "import pandas as pd\n",
    "from sklearn.naive_bayes import GaussianNB\n",
    "from sklearn.metrics import confusion_matrix, ConfusionMatrixDisplay\n",
    "from sklearn.model_selection import train_test_split"
   ]
  },
  {
   "attachments": {},
   "cell_type": "markdown",
   "metadata": {},
   "source": [
    "#### 1. Przygotowanie zbioru danych i wybór zmiennych"
   ]
  },
  {
   "cell_type": "code",
   "execution_count": 49,
   "metadata": {},
   "outputs": [
    {
     "data": {
      "text/html": [
       "<div>\n",
       "<style scoped>\n",
       "    .dataframe tbody tr th:only-of-type {\n",
       "        vertical-align: middle;\n",
       "    }\n",
       "\n",
       "    .dataframe tbody tr th {\n",
       "        vertical-align: top;\n",
       "    }\n",
       "\n",
       "    .dataframe thead th {\n",
       "        text-align: right;\n",
       "    }\n",
       "</style>\n",
       "<table border=\"1\" class=\"dataframe\">\n",
       "  <thead>\n",
       "    <tr style=\"text-align: right;\">\n",
       "      <th></th>\n",
       "      <th>age</th>\n",
       "      <th>weight_kg</th>\n",
       "      <th>bmd</th>\n",
       "      <th>sex_F</th>\n",
       "      <th>sex_M</th>\n",
       "      <th>medication_Anticonvulsant</th>\n",
       "      <th>medication_Glucocorticoids</th>\n",
       "      <th>medication_No medication</th>\n",
       "    </tr>\n",
       "  </thead>\n",
       "  <tbody>\n",
       "    <tr>\n",
       "      <th>16</th>\n",
       "      <td>57.934593</td>\n",
       "      <td>67.0</td>\n",
       "      <td>0.7978</td>\n",
       "      <td>0</td>\n",
       "      <td>1</td>\n",
       "      <td>0</td>\n",
       "      <td>1</td>\n",
       "      <td>0</td>\n",
       "    </tr>\n",
       "    <tr>\n",
       "      <th>66</th>\n",
       "      <td>84.787394</td>\n",
       "      <td>68.0</td>\n",
       "      <td>1.2508</td>\n",
       "      <td>0</td>\n",
       "      <td>1</td>\n",
       "      <td>0</td>\n",
       "      <td>0</td>\n",
       "      <td>1</td>\n",
       "    </tr>\n",
       "    <tr>\n",
       "      <th>136</th>\n",
       "      <td>68.017748</td>\n",
       "      <td>58.0</td>\n",
       "      <td>0.6103</td>\n",
       "      <td>1</td>\n",
       "      <td>0</td>\n",
       "      <td>0</td>\n",
       "      <td>0</td>\n",
       "      <td>1</td>\n",
       "    </tr>\n",
       "    <tr>\n",
       "      <th>40</th>\n",
       "      <td>73.230427</td>\n",
       "      <td>52.0</td>\n",
       "      <td>0.7128</td>\n",
       "      <td>1</td>\n",
       "      <td>0</td>\n",
       "      <td>0</td>\n",
       "      <td>0</td>\n",
       "      <td>1</td>\n",
       "    </tr>\n",
       "    <tr>\n",
       "      <th>160</th>\n",
       "      <td>84.721764</td>\n",
       "      <td>52.0</td>\n",
       "      <td>0.7085</td>\n",
       "      <td>0</td>\n",
       "      <td>1</td>\n",
       "      <td>0</td>\n",
       "      <td>0</td>\n",
       "      <td>1</td>\n",
       "    </tr>\n",
       "  </tbody>\n",
       "</table>\n",
       "</div>"
      ],
      "text/plain": [
       "           age  weight_kg     bmd  sex_F  sex_M  medication_Anticonvulsant  \\\n",
       "16   57.934593       67.0  0.7978      0      1                          0   \n",
       "66   84.787394       68.0  1.2508      0      1                          0   \n",
       "136  68.017748       58.0  0.6103      1      0                          0   \n",
       "40   73.230427       52.0  0.7128      1      0                          0   \n",
       "160  84.721764       52.0  0.7085      0      1                          0   \n",
       "\n",
       "     medication_Glucocorticoids  medication_No medication  \n",
       "16                            1                         0  \n",
       "66                            0                         1  \n",
       "136                           0                         1  \n",
       "40                            0                         1  \n",
       "160                           0                         1  "
      ]
     },
     "execution_count": 49,
     "metadata": {},
     "output_type": "execute_result"
    }
   ],
   "source": [
    "df = pd.read_csv('data/bmd_prep.csv')\n",
    "\n",
    "target_var = 'fracture'\n",
    "\n",
    "numeric_predictors = df.select_dtypes(include=np.number).columns.tolist()\n",
    "categorical_predictors =  df.select_dtypes(exclude=np.number).columns.tolist()\n",
    "# # exclude less important predictors\n",
    "numeric_predictors.remove('height_cm')\n",
    "numeric_predictors.remove('waiting_time')\n",
    "# exclude target variable from training set\n",
    "categorical_predictors.remove(target_var)\n",
    "\n",
    "fracture_labels = ['no fracture', 'fracture']\n",
    "\n",
    "X = df[numeric_predictors + categorical_predictors]\n",
    "y = df[target_var]\n",
    "\n",
    "# Encode categorical data\n",
    "X_encoded = pd.get_dummies(X)\n",
    "y_encoded = y.replace(fracture_labels, [0, 1])\n",
    "\n",
    "# Split data to training and testing set\n",
    "X_train, X_test, y_train, y_test = train_test_split(X_encoded, y_encoded, test_size=0.25, random_state=0)\n",
    "X_train.head()"
   ]
  },
  {
   "attachments": {},
   "cell_type": "markdown",
   "metadata": {},
   "source": [
    "Dla wybranych wyżej zmiennych naiwny klasyfikator Bayesa osiągnął najmniejszą wartość błędu"
   ]
  },
  {
   "attachments": {},
   "cell_type": "markdown",
   "metadata": {},
   "source": [
    "#### 2. NaiveBayes - macierz klasyfikacji"
   ]
  },
  {
   "cell_type": "code",
   "execution_count": 53,
   "metadata": {},
   "outputs": [
    {
     "data": {
      "text/plain": [
       "<sklearn.metrics._plot.confusion_matrix.ConfusionMatrixDisplay at 0x24f0c2b5a60>"
      ]
     },
     "execution_count": 53,
     "metadata": {},
     "output_type": "execute_result"
    },
    {
     "data": {
      "image/png": "[encoded data removed]",
      "text/plain": [
       "<Figure size 640x480 with 2 Axes>"
      ]
     },
     "metadata": {},
     "output_type": "display_data"
    }
   ],
   "source": [
    "# fit data to NaiveBayes object\n",
    "nb = GaussianNB() \\\n",
    "    .fit(X_train, y_train)\n",
    "\n",
    "predictions = nb.predict(X_test)\n",
    "cm = confusion_matrix(y_test, predictions, labels=nb.classes_, normalize='true')\n",
    "disp = ConfusionMatrixDisplay(confusion_matrix=cm, display_labels=fracture_labels)\n",
    "disp.plot()"
   ]
  },
  {
   "cell_type": "code",
   "execution_count": 54,
   "metadata": {},
   "outputs": [
    {
     "name": "stdout",
     "output_type": "stream",
     "text": [
      "Accuracy on training data: 84.92%\n",
      "Accuracy on testing data: 83.72%\n"
     ]
    }
   ],
   "source": [
    "print(\n",
    "    'Accuracy on training data: ' \n",
    "    + str(\"{:.2%}\".format(nb.score(X_train, y_train))))\n",
    "print(\n",
    "    'Accuracy on testing data: ' \n",
    "    + str(\"{:.2%}\".format(nb.score(X_test, y_test))))"
   ]
  },
  {
   "attachments": {},
   "cell_type": "markdown",
   "metadata": {},
   "source": [
    "#### 3. Interpretacja wyników"
   ]
  },
  {
   "attachments": {},
   "cell_type": "markdown",
   "metadata": {},
   "source": [
    "Naiwny klasyfikator Bayesa stanowi jeden z najprostszych algorytmów uczenia nadzorowanego. Jest na ogół szybki, dokładny i niezawodny. Cechują się wysoką dokładnością na dużych zbiorach danych. Jednak w tym przypadku do analizy wykorzystany zbiór danych nie jest duży, ale mimo to poradził sobie całkiem dobrze. <br>\n",
    "Na zbiorze treningowym i testowym osiągnął błąd rzędzu `14-15%`. Jest to wynik gorszy niż uzyskany przy pomocy drzewa klasyfikacyjnego, ale również pozwolił na dość dobre przewidzenie wartości zmiennej zależnej (tutaj `fracture`) przy pomocy wybranych zmiennych objaśniających. <br><br>\n",
    "Naiwny klasyfikator Bayesa również potwierdza słuszność hipotezy iż wiek, rodzaj leczenia i wskaźnik `bmd` (zmienne objaśniające użyte w modelu) wpływają na wystąpienie złamania."
   ]
  }
 ],
 "metadata": {
  "kernelspec": {
   "display_name": "dm_env",
   "language": "python",
   "name": "python3"
  },
  "language_info": {
   "codemirror_mode": {
    "name": "ipython",
    "version": 3
   },
   "file_extension": ".py",
   "mimetype": "text/x-python",
   "name": "python",
   "nbconvert_exporter": "python",
   "pygments_lexer": "ipython3",
   "version": "3.9.16"
  },
  "orig_nbformat": 4
 },
 "nbformat": 4,
 "nbformat_minor": 2
}
